{
 "cells": [
  {
   "cell_type": "markdown",
   "metadata": {},
   "source": [
    "# MedML\n",
    "# The simplest complex system\n",
    "\n",
    "## Overview\n",
    "In this notebook we'll demonstrate where EBM fails to capture even a simple non-linear relationship"
   ]
  },
  {
   "cell_type": "code",
   "execution_count": 18,
   "metadata": {},
   "outputs": [],
   "source": [
    "import numpy as np\n",
    "import scipy\n",
    "import matplotlib.pyplot as plt\n",
    "from ipywidgets import interact, interactive, fixed, interact_manual\n",
    "import ipywidgets as widgets\n",
    "import scipy.stats as stats\n",
    "import ipyvolume as ipv"
   ]
  },
  {
   "cell_type": "code",
   "execution_count": 19,
   "metadata": {},
   "outputs": [
    {
     "data": {
      "application/vnd.jupyter.widget-view+json": {
       "model_id": "68d6739e8ac94e9187647c7f74e87796",
       "version_major": 2,
       "version_minor": 0
      },
      "text/plain": [
       "VBox(children=(Figure(camera=PerspectiveCamera(aspect=0.8, fov=46.0, matrixWorldNeedsUpdate=True, position=(0.…"
      ]
     },
     "metadata": {},
     "output_type": "display_data"
    },
    {
     "data": {
      "application/vnd.jupyter.widget-view+json": {
       "model_id": "90db5cd751824762b3e467ea4a22d76c",
       "version_major": 2,
       "version_minor": 0
      },
      "text/plain": [
       "Scatter(color_selected=array('white', dtype='<U5'), geo='sphere', line_material=ShaderMaterial(), material=Sha…"
      ]
     },
     "metadata": {},
     "output_type": "display_data"
    }
   ],
   "source": [
    "def gaussian(N=1000, draw=True, show=True, seed=42, color=None, marker='sphere'):\n",
    "    \"\"\"Show N random gaussian distributed points using a scatter plot\"\"\"\n",
    "    import ipyvolume as ipv\n",
    "    rng = np.random.RandomState(seed)\n",
    "    x, y, z = rng.normal(size=(3, N))\n",
    "\n",
    "    if draw:\n",
    "        if color:\n",
    "            mesh = ipv.scatter(x, y, z, marker=marker, color=color)\n",
    "        else:\n",
    "            mesh = ipv.scatter(x, y, z, marker=marker)\n",
    "        if show:\n",
    "            #ipv.squarelim()\n",
    "            ipv.show()\n",
    "        return mesh\n",
    "    else:\n",
    "        return x, y, z\n",
    "gaussian()"
   ]
  },
  {
   "cell_type": "code",
   "execution_count": 20,
   "metadata": {},
   "outputs": [
    {
     "data": {
      "application/vnd.jupyter.widget-view+json": {
       "model_id": "f9541c9cbd3440f695a1e7d2702fde04",
       "version_major": 2,
       "version_minor": 0
      },
      "text/plain": [
       "interactive(children=(FloatSlider(value=0.0, description='c', max=1.0, min=-1.0), Output()), _dom_classes=('wi…"
      ]
     },
     "metadata": {},
     "output_type": "display_data"
    }
   ],
   "source": [
    "import ipyvolume as ipv\n",
    "\n",
    "def surf_eg(c=0.0):\n",
    "    x,y = np.meshgrid(np.linspace(-1,1,10),np.linspace(-1,1,10))\n",
    "    z = (x-c)*y\n",
    "    ipv.figure()\n",
    "    m = ipv.plot_mesh(x, y, z, wireframe=True)\n",
    "    ipv.squarelim()\n",
    "    ipv.show()\n",
    "    \n",
    "interactive(surf_eg,c=(-1.0,1.0,0.1))"
   ]
  }
 ],
 "metadata": {
  "kernelspec": {
   "display_name": "Python 3",
   "language": "python",
   "name": "python3"
  },
  "language_info": {
   "codemirror_mode": {
    "name": "ipython",
    "version": 3
   },
   "file_extension": ".py",
   "mimetype": "text/x-python",
   "name": "python",
   "nbconvert_exporter": "python",
   "pygments_lexer": "ipython3",
   "version": "3.8.1"
  }
 },
 "nbformat": 4,
 "nbformat_minor": 4
}
