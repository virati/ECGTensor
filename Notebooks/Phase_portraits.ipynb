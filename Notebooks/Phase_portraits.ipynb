{
 "cells": [
  {
   "cell_type": "markdown",
   "metadata": {},
   "source": [
    "# Phase portraits\n",
    "Relationships between variables may be delayed in time.\n",
    "This makes studying the impact of X on Y challenging.\n"
   ]
  },
  {
   "cell_type": "code",
   "execution_count": 1,
   "metadata": {},
   "outputs": [],
   "source": [
    "import numpy as np\n",
    "import scipy\n",
    "import matplotlib.pyplot as plt\n",
    "from ipywidgets import interact, interactive, fixed, interact_manual\n",
    "import ipywidgets as widgets\n",
    "import scipy.stats as stats"
   ]
  },
  {
   "cell_type": "code",
   "execution_count": 23,
   "metadata": {},
   "outputs": [
    {
     "data": {
      "application/vnd.jupyter.widget-view+json": {
       "model_id": "a668de1bbba34d59bd515d8ae84cc389",
       "version_major": 2,
       "version_minor": 0
      },
      "text/plain": [
       "interactive(children=(FloatSlider(value=0.0, description='phi', max=3.141592653589793, min=-3.141592653589793,…"
      ]
     },
     "metadata": {},
     "output_type": "display_data"
    }
   ],
   "source": [
    "def phase_eg(phi=0.0,a_x=1,a_y=1,f_x=1,f_y=1,noise_lvl=0.0):\n",
    "    t = np.linspace(-10,10,100)\n",
    "    x = a_x * np.sin(2 * np.pi * f_x * t) + np.random.normal(0,noise_lvl,size=t.shape)\n",
    "    y = a_y * np.sin(2 * np.pi * f_y * t + phi) + np.random.normal(0,noise_lvl,size=t.shape)\n",
    "    \n",
    "    plt.figure()\n",
    "    plt.subplot(1,2,1)\n",
    "    plt.plot(t,x)\n",
    "    plt.plot(t,y)\n",
    "    plt.subplot(1,2,2)\n",
    "    plt.scatter(x,y)\n",
    "    plt.xlim((-2,2))\n",
    "    plt.ylim((-2,2))\n",
    "    plt.text(x=0,y=0,s=stats.pearsonr(x,y)[0])\n",
    "    plt.show()\n",
    "    \n",
    "    \n",
    "interactive(phase_eg,phi=(-np.pi,np.pi,0.01),a_x=(0.0,5.0,1.0),a_y=(0.0,5.0,1.0),f_x=(0.01,10,0.05),f_y=(0.01,10,0.05),noise_lvl=(0.0,1.0,0.01))"
   ]
  },
  {
   "cell_type": "code",
   "execution_count": null,
   "metadata": {},
   "outputs": [],
   "source": []
  }
 ],
 "metadata": {
  "kernelspec": {
   "display_name": "Python 3",
   "language": "python",
   "name": "python3"
  },
  "language_info": {
   "codemirror_mode": {
    "name": "ipython",
    "version": 3
   },
   "file_extension": ".py",
   "mimetype": "text/x-python",
   "name": "python",
   "nbconvert_exporter": "python",
   "pygments_lexer": "ipython3",
   "version": "3.8.1"
  }
 },
 "nbformat": 4,
 "nbformat_minor": 4
}
